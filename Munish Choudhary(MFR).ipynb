{
 "cells": [
  {
   "cell_type": "markdown",
   "metadata": {},
   "source": [
    "## Importing Libraries"
   ]
  },
  {
   "cell_type": "code",
   "execution_count": 1,
   "metadata": {},
   "outputs": [],
   "source": [
    "import numpy as np\n",
    "import pandas as pd\n",
    "import matplotlib.pyplot as plt\n",
    "%matplotlib inline"
   ]
  },
  {
   "cell_type": "markdown",
   "metadata": {},
   "source": [
    "## Reading Dataset"
   ]
  },
  {
   "cell_type": "code",
   "execution_count": 2,
   "metadata": {},
   "outputs": [],
   "source": [
    "data=pd.read_csv(\"Data_MFR_310.csv\")"
   ]
  },
  {
   "cell_type": "code",
   "execution_count": 3,
   "metadata": {
    "scrolled": true
   },
   "outputs": [
    {
     "data": {
      "text/html": [
       "<div>\n",
       "<style scoped>\n",
       "    .dataframe tbody tr th:only-of-type {\n",
       "        vertical-align: middle;\n",
       "    }\n",
       "\n",
       "    .dataframe tbody tr th {\n",
       "        vertical-align: top;\n",
       "    }\n",
       "\n",
       "    .dataframe thead th {\n",
       "        text-align: right;\n",
       "    }\n",
       "</style>\n",
       "<table border=\"1\" class=\"dataframe\">\n",
       "  <thead>\n",
       "    <tr style=\"text-align: right;\">\n",
       "      <th></th>\n",
       "      <th>Unnamed: 0</th>\n",
       "      <th>513FC31103.pv</th>\n",
       "      <th>513HC31114-5.mv</th>\n",
       "      <th>513PC31201.pv</th>\n",
       "      <th>513LC31202.pv</th>\n",
       "      <th>513FC31409.pv</th>\n",
       "      <th>513FC31114-5.pv</th>\n",
       "      <th>513TC31220.pv</th>\n",
       "      <th>MFR</th>\n",
       "    </tr>\n",
       "  </thead>\n",
       "  <tbody>\n",
       "    <tr>\n",
       "      <th>0</th>\n",
       "      <td>04-05-2018 19:45</td>\n",
       "      <td>24856.584</td>\n",
       "      <td>0.153</td>\n",
       "      <td>30.414835</td>\n",
       "      <td>79.657906</td>\n",
       "      <td>50850.578</td>\n",
       "      <td>0.163994</td>\n",
       "      <td>80.399605</td>\n",
       "      <td>3.4</td>\n",
       "    </tr>\n",
       "    <tr>\n",
       "      <th>1</th>\n",
       "      <td>04-05-2018 21:45</td>\n",
       "      <td>25537.250</td>\n",
       "      <td>0.153</td>\n",
       "      <td>30.527121</td>\n",
       "      <td>78.532608</td>\n",
       "      <td>42229.813</td>\n",
       "      <td>0.129739</td>\n",
       "      <td>78.861328</td>\n",
       "      <td>3.2</td>\n",
       "    </tr>\n",
       "    <tr>\n",
       "      <th>2</th>\n",
       "      <td>04-05-2018 23:45</td>\n",
       "      <td>25689.266</td>\n",
       "      <td>0.153</td>\n",
       "      <td>30.356180</td>\n",
       "      <td>78.842636</td>\n",
       "      <td>45335.852</td>\n",
       "      <td>0.150003</td>\n",
       "      <td>78.818115</td>\n",
       "      <td>3.2</td>\n",
       "    </tr>\n",
       "    <tr>\n",
       "      <th>3</th>\n",
       "      <td>04-06-2018 01:45</td>\n",
       "      <td>25098.754</td>\n",
       "      <td>0.153</td>\n",
       "      <td>30.894308</td>\n",
       "      <td>79.173500</td>\n",
       "      <td>43077.016</td>\n",
       "      <td>0.151543</td>\n",
       "      <td>79.022720</td>\n",
       "      <td>3.1</td>\n",
       "    </tr>\n",
       "    <tr>\n",
       "      <th>4</th>\n",
       "      <td>04-06-2018 03:45</td>\n",
       "      <td>24853.941</td>\n",
       "      <td>0.150</td>\n",
       "      <td>30.680647</td>\n",
       "      <td>78.677299</td>\n",
       "      <td>40404.387</td>\n",
       "      <td>0.122582</td>\n",
       "      <td>79.038483</td>\n",
       "      <td>3.3</td>\n",
       "    </tr>\n",
       "  </tbody>\n",
       "</table>\n",
       "</div>"
      ],
      "text/plain": [
       "         Unnamed: 0  513FC31103.pv  513HC31114-5.mv  513PC31201.pv  \\\n",
       "0  04-05-2018 19:45      24856.584            0.153      30.414835   \n",
       "1  04-05-2018 21:45      25537.250            0.153      30.527121   \n",
       "2  04-05-2018 23:45      25689.266            0.153      30.356180   \n",
       "3  04-06-2018 01:45      25098.754            0.153      30.894308   \n",
       "4  04-06-2018 03:45      24853.941            0.150      30.680647   \n",
       "\n",
       "   513LC31202.pv  513FC31409.pv  513FC31114-5.pv  513TC31220.pv  MFR  \n",
       "0      79.657906      50850.578         0.163994      80.399605  3.4  \n",
       "1      78.532608      42229.813         0.129739      78.861328  3.2  \n",
       "2      78.842636      45335.852         0.150003      78.818115  3.2  \n",
       "3      79.173500      43077.016         0.151543      79.022720  3.1  \n",
       "4      78.677299      40404.387         0.122582      79.038483  3.3  "
      ]
     },
     "execution_count": 3,
     "metadata": {},
     "output_type": "execute_result"
    }
   ],
   "source": [
    "data.head()"
   ]
  },
  {
   "cell_type": "code",
   "execution_count": 4,
   "metadata": {},
   "outputs": [],
   "source": [
    "data.rename(columns={\n",
    "'Unnamed: 0':'Date_Time', \n",
    "'513FC31103.pv':'Propylene flow',\n",
    "'513HC31114-5.mv':'Hydrogen ratio',\n",
    "'513PC31201.pv':'Pressure controller',\n",
    "'513LC31202.pv':'Level controller',\n",
    "'513FC31409.pv':'Liquefied Recycle gas to R-310 dome top',\n",
    "'513FC31114-5.pv':'Hydrogen Flow',\n",
    "'513TC31220.pv':'Temperature controller'\n",
    "  },inplace=True)"
   ]
  },
  {
   "cell_type": "code",
   "execution_count": 5,
   "metadata": {},
   "outputs": [
    {
     "data": {
      "text/plain": [
       "Index(['Date_Time', 'Propylene flow', 'Hydrogen ratio', 'Pressure controller',\n",
       "       'Level controller', 'Liquefied Recycle gas to R-310 dome top',\n",
       "       'Hydrogen Flow', 'Temperature controller', 'MFR'],\n",
       "      dtype='object')"
      ]
     },
     "execution_count": 5,
     "metadata": {},
     "output_type": "execute_result"
    }
   ],
   "source": [
    "data.columns"
   ]
  },
  {
   "cell_type": "code",
   "execution_count": 6,
   "metadata": {},
   "outputs": [
    {
     "data": {
      "text/html": [
       "<div>\n",
       "<style scoped>\n",
       "    .dataframe tbody tr th:only-of-type {\n",
       "        vertical-align: middle;\n",
       "    }\n",
       "\n",
       "    .dataframe tbody tr th {\n",
       "        vertical-align: top;\n",
       "    }\n",
       "\n",
       "    .dataframe thead th {\n",
       "        text-align: right;\n",
       "    }\n",
       "</style>\n",
       "<table border=\"1\" class=\"dataframe\">\n",
       "  <thead>\n",
       "    <tr style=\"text-align: right;\">\n",
       "      <th></th>\n",
       "      <th>Date_Time</th>\n",
       "      <th>Propylene flow</th>\n",
       "      <th>Hydrogen ratio</th>\n",
       "      <th>Pressure controller</th>\n",
       "      <th>Level controller</th>\n",
       "      <th>Liquefied Recycle gas to R-310 dome top</th>\n",
       "      <th>Hydrogen Flow</th>\n",
       "      <th>Temperature controller</th>\n",
       "      <th>MFR</th>\n",
       "    </tr>\n",
       "  </thead>\n",
       "  <tbody>\n",
       "    <tr>\n",
       "      <th>0</th>\n",
       "      <td>04-05-2018 19:45</td>\n",
       "      <td>24856.584</td>\n",
       "      <td>0.153</td>\n",
       "      <td>30.414835</td>\n",
       "      <td>79.657906</td>\n",
       "      <td>50850.578</td>\n",
       "      <td>0.163994</td>\n",
       "      <td>80.399605</td>\n",
       "      <td>3.4</td>\n",
       "    </tr>\n",
       "    <tr>\n",
       "      <th>1</th>\n",
       "      <td>04-05-2018 21:45</td>\n",
       "      <td>25537.250</td>\n",
       "      <td>0.153</td>\n",
       "      <td>30.527121</td>\n",
       "      <td>78.532608</td>\n",
       "      <td>42229.813</td>\n",
       "      <td>0.129739</td>\n",
       "      <td>78.861328</td>\n",
       "      <td>3.2</td>\n",
       "    </tr>\n",
       "    <tr>\n",
       "      <th>2</th>\n",
       "      <td>04-05-2018 23:45</td>\n",
       "      <td>25689.266</td>\n",
       "      <td>0.153</td>\n",
       "      <td>30.356180</td>\n",
       "      <td>78.842636</td>\n",
       "      <td>45335.852</td>\n",
       "      <td>0.150003</td>\n",
       "      <td>78.818115</td>\n",
       "      <td>3.2</td>\n",
       "    </tr>\n",
       "    <tr>\n",
       "      <th>3</th>\n",
       "      <td>04-06-2018 01:45</td>\n",
       "      <td>25098.754</td>\n",
       "      <td>0.153</td>\n",
       "      <td>30.894308</td>\n",
       "      <td>79.173500</td>\n",
       "      <td>43077.016</td>\n",
       "      <td>0.151543</td>\n",
       "      <td>79.022720</td>\n",
       "      <td>3.1</td>\n",
       "    </tr>\n",
       "    <tr>\n",
       "      <th>4</th>\n",
       "      <td>04-06-2018 03:45</td>\n",
       "      <td>24853.941</td>\n",
       "      <td>0.150</td>\n",
       "      <td>30.680647</td>\n",
       "      <td>78.677299</td>\n",
       "      <td>40404.387</td>\n",
       "      <td>0.122582</td>\n",
       "      <td>79.038483</td>\n",
       "      <td>3.3</td>\n",
       "    </tr>\n",
       "  </tbody>\n",
       "</table>\n",
       "</div>"
      ],
      "text/plain": [
       "          Date_Time  Propylene flow  Hydrogen ratio  Pressure controller  \\\n",
       "0  04-05-2018 19:45       24856.584           0.153            30.414835   \n",
       "1  04-05-2018 21:45       25537.250           0.153            30.527121   \n",
       "2  04-05-2018 23:45       25689.266           0.153            30.356180   \n",
       "3  04-06-2018 01:45       25098.754           0.153            30.894308   \n",
       "4  04-06-2018 03:45       24853.941           0.150            30.680647   \n",
       "\n",
       "   Level controller  Liquefied Recycle gas to R-310 dome top  Hydrogen Flow  \\\n",
       "0         79.657906                                50850.578       0.163994   \n",
       "1         78.532608                                42229.813       0.129739   \n",
       "2         78.842636                                45335.852       0.150003   \n",
       "3         79.173500                                43077.016       0.151543   \n",
       "4         78.677299                                40404.387       0.122582   \n",
       "\n",
       "   Temperature controller  MFR  \n",
       "0               80.399605  3.4  \n",
       "1               78.861328  3.2  \n",
       "2               78.818115  3.2  \n",
       "3               79.022720  3.1  \n",
       "4               79.038483  3.3  "
      ]
     },
     "execution_count": 6,
     "metadata": {},
     "output_type": "execute_result"
    }
   ],
   "source": [
    "data.head()"
   ]
  },
  {
   "cell_type": "markdown",
   "metadata": {},
   "source": [
    "## Remove unnecessary columns"
   ]
  },
  {
   "cell_type": "code",
   "execution_count": 7,
   "metadata": {},
   "outputs": [],
   "source": [
    "data=data.drop('Date_Time',axis=1)"
   ]
  },
  {
   "cell_type": "code",
   "execution_count": 8,
   "metadata": {
    "scrolled": true
   },
   "outputs": [
    {
     "data": {
      "text/html": [
       "<div>\n",
       "<style scoped>\n",
       "    .dataframe tbody tr th:only-of-type {\n",
       "        vertical-align: middle;\n",
       "    }\n",
       "\n",
       "    .dataframe tbody tr th {\n",
       "        vertical-align: top;\n",
       "    }\n",
       "\n",
       "    .dataframe thead th {\n",
       "        text-align: right;\n",
       "    }\n",
       "</style>\n",
       "<table border=\"1\" class=\"dataframe\">\n",
       "  <thead>\n",
       "    <tr style=\"text-align: right;\">\n",
       "      <th></th>\n",
       "      <th>Propylene flow</th>\n",
       "      <th>Hydrogen ratio</th>\n",
       "      <th>Pressure controller</th>\n",
       "      <th>Level controller</th>\n",
       "      <th>Liquefied Recycle gas to R-310 dome top</th>\n",
       "      <th>Hydrogen Flow</th>\n",
       "      <th>Temperature controller</th>\n",
       "      <th>MFR</th>\n",
       "    </tr>\n",
       "  </thead>\n",
       "  <tbody>\n",
       "    <tr>\n",
       "      <th>0</th>\n",
       "      <td>24856.584</td>\n",
       "      <td>0.153</td>\n",
       "      <td>30.414835</td>\n",
       "      <td>79.657906</td>\n",
       "      <td>50850.578</td>\n",
       "      <td>0.163994</td>\n",
       "      <td>80.399605</td>\n",
       "      <td>3.4</td>\n",
       "    </tr>\n",
       "    <tr>\n",
       "      <th>1</th>\n",
       "      <td>25537.250</td>\n",
       "      <td>0.153</td>\n",
       "      <td>30.527121</td>\n",
       "      <td>78.532608</td>\n",
       "      <td>42229.813</td>\n",
       "      <td>0.129739</td>\n",
       "      <td>78.861328</td>\n",
       "      <td>3.2</td>\n",
       "    </tr>\n",
       "    <tr>\n",
       "      <th>2</th>\n",
       "      <td>25689.266</td>\n",
       "      <td>0.153</td>\n",
       "      <td>30.356180</td>\n",
       "      <td>78.842636</td>\n",
       "      <td>45335.852</td>\n",
       "      <td>0.150003</td>\n",
       "      <td>78.818115</td>\n",
       "      <td>3.2</td>\n",
       "    </tr>\n",
       "    <tr>\n",
       "      <th>3</th>\n",
       "      <td>25098.754</td>\n",
       "      <td>0.153</td>\n",
       "      <td>30.894308</td>\n",
       "      <td>79.173500</td>\n",
       "      <td>43077.016</td>\n",
       "      <td>0.151543</td>\n",
       "      <td>79.022720</td>\n",
       "      <td>3.1</td>\n",
       "    </tr>\n",
       "    <tr>\n",
       "      <th>4</th>\n",
       "      <td>24853.941</td>\n",
       "      <td>0.150</td>\n",
       "      <td>30.680647</td>\n",
       "      <td>78.677299</td>\n",
       "      <td>40404.387</td>\n",
       "      <td>0.122582</td>\n",
       "      <td>79.038483</td>\n",
       "      <td>3.3</td>\n",
       "    </tr>\n",
       "  </tbody>\n",
       "</table>\n",
       "</div>"
      ],
      "text/plain": [
       "   Propylene flow  Hydrogen ratio  Pressure controller  Level controller  \\\n",
       "0       24856.584           0.153            30.414835         79.657906   \n",
       "1       25537.250           0.153            30.527121         78.532608   \n",
       "2       25689.266           0.153            30.356180         78.842636   \n",
       "3       25098.754           0.153            30.894308         79.173500   \n",
       "4       24853.941           0.150            30.680647         78.677299   \n",
       "\n",
       "   Liquefied Recycle gas to R-310 dome top  Hydrogen Flow  \\\n",
       "0                                50850.578       0.163994   \n",
       "1                                42229.813       0.129739   \n",
       "2                                45335.852       0.150003   \n",
       "3                                43077.016       0.151543   \n",
       "4                                40404.387       0.122582   \n",
       "\n",
       "   Temperature controller  MFR  \n",
       "0               80.399605  3.4  \n",
       "1               78.861328  3.2  \n",
       "2               78.818115  3.2  \n",
       "3               79.022720  3.1  \n",
       "4               79.038483  3.3  "
      ]
     },
     "execution_count": 8,
     "metadata": {},
     "output_type": "execute_result"
    }
   ],
   "source": [
    "data.head()"
   ]
  },
  {
   "cell_type": "code",
   "execution_count": 9,
   "metadata": {},
   "outputs": [
    {
     "name": "stdout",
     "output_type": "stream",
     "text": [
      "<class 'pandas.core.frame.DataFrame'>\n",
      "RangeIndex: 2564 entries, 0 to 2563\n",
      "Data columns (total 8 columns):\n",
      " #   Column                                   Non-Null Count  Dtype  \n",
      "---  ------                                   --------------  -----  \n",
      " 0   Propylene flow                           2486 non-null   float64\n",
      " 1   Hydrogen ratio                           2560 non-null   float64\n",
      " 2   Pressure controller                      2484 non-null   float64\n",
      " 3   Level controller                         2484 non-null   float64\n",
      " 4   Liquefied Recycle gas to R-310 dome top  2484 non-null   float64\n",
      " 5   Hydrogen Flow                            2486 non-null   float64\n",
      " 6   Temperature controller                   2484 non-null   float64\n",
      " 7   MFR                                      2564 non-null   float64\n",
      "dtypes: float64(8)\n",
      "memory usage: 160.4 KB\n"
     ]
    }
   ],
   "source": [
    "data.info()"
   ]
  },
  {
   "cell_type": "markdown",
   "metadata": {},
   "source": [
    "## Finding the missing values"
   ]
  },
  {
   "cell_type": "code",
   "execution_count": 10,
   "metadata": {
    "scrolled": true
   },
   "outputs": [
    {
     "data": {
      "text/plain": [
       "Propylene flow                             78\n",
       "Hydrogen ratio                              4\n",
       "Pressure controller                        80\n",
       "Level controller                           80\n",
       "Liquefied Recycle gas to R-310 dome top    80\n",
       "Hydrogen Flow                              78\n",
       "Temperature controller                     80\n",
       "MFR                                         0\n",
       "dtype: int64"
      ]
     },
     "execution_count": 10,
     "metadata": {},
     "output_type": "execute_result"
    }
   ],
   "source": [
    "pd.isnull(data).sum()"
   ]
  },
  {
   "cell_type": "markdown",
   "metadata": {},
   "source": [
    "## Handling Missing values"
   ]
  },
  {
   "cell_type": "code",
   "execution_count": 11,
   "metadata": {},
   "outputs": [],
   "source": [
    "from sklearn.impute import SimpleImputer\n",
    "mean_imputer = SimpleImputer(missing_values=np.nan, strategy='mean')"
   ]
  },
  {
   "cell_type": "code",
   "execution_count": 12,
   "metadata": {},
   "outputs": [],
   "source": [
    "data['Propylene flow'] = mean_imputer.fit_transform(data['Propylene flow'].values.reshape(-1,1))\n",
    "data['Hydrogen ratio'] = mean_imputer.fit_transform(data['Hydrogen ratio'].values.reshape(-1,1))\n",
    "data['Pressure controller'] = mean_imputer.fit_transform(data['Pressure controller'].values.reshape(-1,1))\n",
    "data['Level controller'] = mean_imputer.fit_transform(data['Level controller'].values.reshape(-1,1))\n",
    "data['Liquefied Recycle gas to R-310 dome top'] = mean_imputer.fit_transform(data['Liquefied Recycle gas to R-310 dome top'].values.reshape(-1,1))\n",
    "data['Hydrogen Flow'] = mean_imputer.fit_transform(data['Hydrogen Flow'].values.reshape(-1,1))\n",
    "data['Temperature controller'] = mean_imputer.fit_transform(data['Temperature controller'].values.reshape(-1,1))"
   ]
  },
  {
   "cell_type": "code",
   "execution_count": 13,
   "metadata": {},
   "outputs": [
    {
     "data": {
      "text/plain": [
       "Propylene flow                             0\n",
       "Hydrogen ratio                             0\n",
       "Pressure controller                        0\n",
       "Level controller                           0\n",
       "Liquefied Recycle gas to R-310 dome top    0\n",
       "Hydrogen Flow                              0\n",
       "Temperature controller                     0\n",
       "MFR                                        0\n",
       "dtype: int64"
      ]
     },
     "execution_count": 13,
     "metadata": {},
     "output_type": "execute_result"
    }
   ],
   "source": [
    "pd.isnull(data).sum()"
   ]
  },
  {
   "cell_type": "code",
   "execution_count": 14,
   "metadata": {},
   "outputs": [],
   "source": [
    "corr=data.corr()"
   ]
  },
  {
   "cell_type": "code",
   "execution_count": 15,
   "metadata": {},
   "outputs": [
    {
     "name": "stderr",
     "output_type": "stream",
     "text": [
      "c:\\python37\\lib\\site-packages\\statsmodels\\tools\\_testing.py:19: FutureWarning: pandas.util.testing is deprecated. Use the functions in the public API at pandas.testing instead.\n",
      "  import pandas.util.testing as tm\n"
     ]
    },
    {
     "data": {
      "text/plain": [
       "<matplotlib.axes._subplots.AxesSubplot at 0x1caa87dfcf8>"
      ]
     },
     "execution_count": 15,
     "metadata": {},
     "output_type": "execute_result"
    },
    {
     "data": {
      "image/png": "[encoded data removed]",
      "text/plain": [
       "<Figure size 720x360 with 2 Axes>"
      ]
     },
     "metadata": {
      "needs_background": "light"
     },
     "output_type": "display_data"
    }
   ],
   "source": [
    "import seaborn as sns\n",
    "plt.figure(figsize=(10,5))\n",
    "sns.heatmap(corr,cmap='Blues')"
   ]
  },
  {
   "cell_type": "code",
   "execution_count": 16,
   "metadata": {},
   "outputs": [],
   "source": [
    "X = data.iloc[:, :-1]\n",
    "y = data.iloc[:, -1]"
   ]
  },
  {
   "cell_type": "code",
   "execution_count": 17,
   "metadata": {},
   "outputs": [],
   "source": [
    "from sklearn.model_selection import train_test_split\n",
    "X_train, X_test, y_train, y_test = train_test_split(X, y, test_size = 0.2,random_state=0)"
   ]
  },
  {
   "cell_type": "code",
   "execution_count": 18,
   "metadata": {},
   "outputs": [
    {
     "data": {
      "text/plain": [
       "(2051, 7)"
      ]
     },
     "execution_count": 18,
     "metadata": {},
     "output_type": "execute_result"
    }
   ],
   "source": [
    "X_train.shape"
   ]
  },
  {
   "cell_type": "code",
   "execution_count": 19,
   "metadata": {},
   "outputs": [],
   "source": [
    "from sklearn.preprocessing import StandardScaler\n",
    "scaler = StandardScaler()\n",
    "scaler.fit(X_train)\n",
    "X_train_transformed = scaler.transform(X_train)\n",
    "X_test_transformed = scaler.transform(X_test)"
   ]
  },
  {
   "cell_type": "markdown",
   "metadata": {},
   "source": [
    "## Training the model"
   ]
  },
  {
   "cell_type": "code",
   "execution_count": 20,
   "metadata": {},
   "outputs": [
    {
     "data": {
      "text/plain": [
       "RandomForestRegressor(bootstrap=True, ccp_alpha=0.0, criterion='mse',\n",
       "                      max_depth=None, max_features='auto', max_leaf_nodes=None,\n",
       "                      max_samples=None, min_impurity_decrease=0.0,\n",
       "                      min_impurity_split=None, min_samples_leaf=1,\n",
       "                      min_samples_split=2, min_weight_fraction_leaf=0.0,\n",
       "                      n_estimators=500, n_jobs=None, oob_score=False,\n",
       "                      random_state=0, verbose=0, warm_start=False)"
      ]
     },
     "execution_count": 20,
     "metadata": {},
     "output_type": "execute_result"
    }
   ],
   "source": [
    "from sklearn.ensemble import RandomForestRegressor\n",
    "regressor = RandomForestRegressor(n_estimators =500, random_state = 0)\n",
    "regressor.fit(X_train_transformed, y_train)"
   ]
  },
  {
   "cell_type": "code",
   "execution_count": 21,
   "metadata": {},
   "outputs": [],
   "source": [
    "y_pred=regressor.predict(X_test_transformed)"
   ]
  },
  {
   "cell_type": "code",
   "execution_count": 22,
   "metadata": {},
   "outputs": [
    {
     "data": {
      "text/plain": [
       "array([ 4.0458    , 12.0884    , 12.779     ,  3.643     ,  3.7404    ,\n",
       "       11.429812  ,  4.1234    ,  3.7478    ,  4.3964    ,  3.9788    ,\n",
       "        5.8186    ,  4.1338    , 13.8244    ,  5.151     ,  3.5486    ,\n",
       "       13.20397744,  3.706     ,  4.4364    , 14.8852    , 11.9798    ])"
      ]
     },
     "execution_count": 22,
     "metadata": {},
     "output_type": "execute_result"
    }
   ],
   "source": [
    "y_pred[0:20]"
   ]
  },
  {
   "cell_type": "code",
   "execution_count": 23,
   "metadata": {
    "scrolled": true
   },
   "outputs": [
    {
     "data": {
      "text/plain": [
       "619      3.9\n",
       "2525    13.1\n",
       "1231    17.2\n",
       "1686     3.6\n",
       "1657     4.0\n",
       "646     14.6\n",
       "618      3.6\n",
       "1683     3.6\n",
       "195      3.9\n",
       "2037     3.9\n",
       "2220     3.7\n",
       "2056     3.8\n",
       "716     15.7\n",
       "1999     4.3\n",
       "1513     3.3\n",
       "1875    13.5\n",
       "1721     4.1\n",
       "192      4.5\n",
       "745     14.8\n",
       "688     11.9\n",
       "Name: MFR, dtype: float64"
      ]
     },
     "execution_count": 23,
     "metadata": {},
     "output_type": "execute_result"
    }
   ],
   "source": [
    "y_test.head(20)"
   ]
  },
  {
   "cell_type": "code",
   "execution_count": 24,
   "metadata": {},
   "outputs": [],
   "source": [
    "from sklearn.metrics import r2_score\n",
    "score=r2_score(y_test,y_pred)"
   ]
  },
  {
   "cell_type": "code",
   "execution_count": 25,
   "metadata": {},
   "outputs": [
    {
     "data": {
      "text/plain": [
       "0.7249411330565994"
      ]
     },
     "execution_count": 25,
     "metadata": {},
     "output_type": "execute_result"
    }
   ],
   "source": [
    "score"
   ]
  }
 ],
 "metadata": {
  "kernelspec": {
   "display_name": "Python 3",
   "language": "python",
   "name": "python3"
  },
  "language_info": {
   "codemirror_mode": {
    "name": "ipython",
    "version": 3
   },
   "file_extension": ".py",
   "mimetype": "text/x-python",
   "name": "python",
   "nbconvert_exporter": "python",
   "pygments_lexer": "ipython3",
   "version": "3.7.3"
  }
 },
 "nbformat": 4,
 "nbformat_minor": 2
}
